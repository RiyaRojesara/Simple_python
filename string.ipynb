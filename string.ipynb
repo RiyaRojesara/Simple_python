{
 "cells": [
  {
   "cell_type": "markdown",
   "id": "86adebde-2354-419f-917e-3ec5e1c43e14",
   "metadata": {},
   "source": [
    "# String"
   ]
  },
  {
   "cell_type": "markdown",
   "id": "c85321da-7249-4c34-bb1a-18003cec0e2f",
   "metadata": {},
   "source": [
    "- A string is a data type that is used to represent text, and each element in a string is an individual character. \n",
    "- Strings are immutable, meaning once a string is created, it cannot be changed."
   ]
  },
  {
   "cell_type": "markdown",
   "id": "38647eff-e06a-4798-b7a8-868b9b088826",
   "metadata": {},
   "source": [
    "# Creating string"
   ]
  },
  {
   "cell_type": "markdown",
   "id": "54276af0-c8ea-4979-8e7e-ceb3eb650e5c",
   "metadata": {},
   "source": [
    "- we can create a string by enclosing the characters in single-quotes or double-quotes.\n",
    "- it provides triple-quotes to represent the string,it is known as multiline string/docstrings"
   ]
  },
  {
   "cell_type": "code",
   "execution_count": 1,
   "id": "d46cdaad-20fa-49a7-abed-9e7126b20359",
   "metadata": {},
   "outputs": [
    {
     "name": "stdout",
     "output_type": "stream",
     "text": [
      "Hello world!\n",
      "Hello world!\n",
      "When you wake up early morning,start doing your workout and take some tea,it affects the whole day\n"
     ]
    }
   ],
   "source": [
    "# using single quotes\n",
    "a = 'Hello world!'\n",
    "print(a)\n",
    "# using double quotes\n",
    "b = \"Hello world!\"\n",
    "print(b)\n",
    "# using triple qyotes\n",
    "c = \"\"\"When you wake up early morning,start doing your workout and take some tea,it affects the whole day\"\"\"\n",
    "print(c)"
   ]
  },
  {
   "cell_type": "markdown",
   "id": "e74293f9-e332-4374-af6f-fb1123b0e463",
   "metadata": {},
   "source": [
    "# String indexing and splitting"
   ]
  },
  {
   "cell_type": "markdown",
   "id": "23faebf6-b835-4066-9fb4-b6358ddfe1b6",
   "metadata": {},
   "source": [
    "- In python string start from zero"
   ]
  },
  {
   "cell_type": "code",
   "execution_count": 2,
   "id": "71230cb9-d6d0-4b1e-b4f1-2024a92c3cd7",
   "metadata": {},
   "outputs": [
    {
     "name": "stdout",
     "output_type": "stream",
     "text": [
      "d[0]='d'\n",
      "d[1]='o'\n",
      "d[2]='r'\n",
      "d[3]='a'\n",
      "d[4]='e'\n",
      "d[5]='m'\n",
      "d[6]='o'\n",
      "d[7]='n'\n"
     ]
    }
   ],
   "source": [
    "d = \"doraemon\"\n",
    "for i in range(len(d)):\n",
    "    print(f\"d[{i}]='{d[i]}'\")"
   ]
  },
  {
   "cell_type": "markdown",
   "id": "02a058cc-7330-4c09-8d15-51f2ebec3392",
   "metadata": {},
   "source": [
    "# Reassigning strings"
   ]
  },
  {
   "cell_type": "code",
   "execution_count": 3,
   "id": "81649b14-450c-4227-9087-3063c872296f",
   "metadata": {},
   "outputs": [
    {
     "ename": "TypeError",
     "evalue": "'str' object does not support item assignment",
     "output_type": "error",
     "traceback": [
      "\u001b[1;31m---------------------------------------------------------------------------\u001b[0m",
      "\u001b[1;31mTypeError\u001b[0m                                 Traceback (most recent call last)",
      "Cell \u001b[1;32mIn[3], line 2\u001b[0m\n\u001b[0;32m      1\u001b[0m e \u001b[38;5;241m=\u001b[39m \u001b[38;5;124m\"\u001b[39m\u001b[38;5;124mHello ji\u001b[39m\u001b[38;5;124m\"\u001b[39m\n\u001b[1;32m----> 2\u001b[0m \u001b[43me\u001b[49m\u001b[43m[\u001b[49m\u001b[38;5;241;43m6\u001b[39;49m\u001b[43m]\u001b[49m \u001b[38;5;241m=\u001b[39m \u001b[38;5;124m'\u001b[39m\u001b[38;5;124mJ\u001b[39m\u001b[38;5;124m'\u001b[39m\n\u001b[0;32m      3\u001b[0m \u001b[38;5;28mprint\u001b[39m(e)\n",
      "\u001b[1;31mTypeError\u001b[0m: 'str' object does not support item assignment"
     ]
    }
   ],
   "source": [
    "e = \"Hello ji\"\n",
    "e[6] = 'J'\n",
    "print(e)"
   ]
  },
  {
   "cell_type": "markdown",
   "id": "91c2108c-7f90-41af-8897-0c04a539ceac",
   "metadata": {},
   "source": [
    "above error is because of immutability of string in python"
   ]
  },
  {
   "cell_type": "markdown",
   "id": "1d3078df-e401-4c82-a6d6-3bc92c068ed6",
   "metadata": {},
   "source": [
    "# Deleting a string"
   ]
  },
  {
   "cell_type": "code",
   "execution_count": 4,
   "id": "009303e3-0c05-49d1-8030-484e86c48213",
   "metadata": {},
   "outputs": [
    {
     "ename": "TypeError",
     "evalue": "'str' object doesn't support item deletion",
     "output_type": "error",
     "traceback": [
      "\u001b[1;31m---------------------------------------------------------------------------\u001b[0m",
      "\u001b[1;31mTypeError\u001b[0m                                 Traceback (most recent call last)",
      "Cell \u001b[1;32mIn[4], line 2\u001b[0m\n\u001b[0;32m      1\u001b[0m f \u001b[38;5;241m=\u001b[39m \u001b[38;5;124m'\u001b[39m\u001b[38;5;124mpurvi\u001b[39m\u001b[38;5;124m'\u001b[39m\n\u001b[1;32m----> 2\u001b[0m \u001b[38;5;28;01mdel\u001b[39;00m \u001b[43mf\u001b[49m\u001b[43m[\u001b[49m\u001b[38;5;241;43m1\u001b[39;49m\u001b[43m]\u001b[49m\n",
      "\u001b[1;31mTypeError\u001b[0m: 'str' object doesn't support item deletion"
     ]
    }
   ],
   "source": [
    "f = 'purvi'\n",
    "del f[1]"
   ]
  },
  {
   "cell_type": "markdown",
   "id": "299dfea8-3bf5-4edb-896d-b89f2270b21f",
   "metadata": {},
   "source": [
    "above error is because of immutability of string in python"
   ]
  },
  {
   "cell_type": "markdown",
   "id": "323175b9-bf14-49b0-a72f-18e9c2d50b6e",
   "metadata": {},
   "source": [
    "# String methods"
   ]
  },
  {
   "cell_type": "code",
   "execution_count": 5,
   "id": "86cebc83-39dd-4d94-ab60-2532f1332738",
   "metadata": {},
   "outputs": [
    {
     "data": {
      "text/plain": [
       "'tredvgw'"
      ]
     },
     "execution_count": 5,
     "metadata": {},
     "output_type": "execute_result"
    }
   ],
   "source": [
    "str=\"TREDvgw\"\n",
    "str.casefold()"
   ]
  },
  {
   "cell_type": "code",
   "execution_count": 6,
   "id": "674fa9e3-a7c1-45f4-8495-cc441767c47d",
   "metadata": {},
   "outputs": [
    {
     "data": {
      "text/plain": [
       "'Jayambe'"
      ]
     },
     "execution_count": 6,
     "metadata": {},
     "output_type": "execute_result"
    }
   ],
   "source": [
    "str=\"jayambe\"\n",
    "str.capitalize()"
   ]
  },
  {
   "cell_type": "code",
   "execution_count": 7,
   "id": "26d4c7c4-0ead-4f32-a06a-eb1b9d48a282",
   "metadata": {},
   "outputs": [
    {
     "data": {
      "text/plain": [
       "'           jayambe            '"
      ]
     },
     "execution_count": 7,
     "metadata": {},
     "output_type": "execute_result"
    }
   ],
   "source": [
    "str=\"jayambe\"\n",
    "str.center(30)"
   ]
  },
  {
   "cell_type": "code",
   "execution_count": 8,
   "id": "815cc851-a1bf-43ba-b973-4682c1869af0",
   "metadata": {},
   "outputs": [
    {
     "name": "stdout",
     "output_type": "stream",
     "text": [
      "___________jayambe____________\n"
     ]
    }
   ],
   "source": [
    "str=\"jayambe\"\n",
    "y=str.center(30,\"_\")\n",
    "print(y)"
   ]
  },
  {
   "cell_type": "code",
   "execution_count": 9,
   "id": "a9362ca3-2697-4175-b345-4498130e30a3",
   "metadata": {},
   "outputs": [
    {
     "name": "stdout",
     "output_type": "stream",
     "text": [
      "2\n"
     ]
    }
   ],
   "source": [
    "str=\"hyedhhyqjdiru\"\n",
    "y=str.count(\"d\")\n",
    "print(y)"
   ]
  },
  {
   "cell_type": "code",
   "execution_count": 10,
   "id": "22ec295b-335a-4258-a16d-4e9aaf3e4442",
   "metadata": {},
   "outputs": [
    {
     "name": "stdout",
     "output_type": "stream",
     "text": [
      "True\n"
     ]
    }
   ],
   "source": [
    "str=\"hyedhhyqjdiru\"\n",
    "y=str.endswith(\"u\")\n",
    "print(y)"
   ]
  },
  {
   "cell_type": "code",
   "execution_count": 11,
   "id": "d72c82be-bc68-472b-a4ed-51f103acd13d",
   "metadata": {},
   "outputs": [
    {
     "name": "stdout",
     "output_type": "stream",
     "text": [
      "b'my name is stale'\n"
     ]
    }
   ],
   "source": [
    "str=\"my name is stale\"\n",
    "x=str.encode()\n",
    "print(x)"
   ]
  },
  {
   "cell_type": "code",
   "execution_count": 12,
   "id": "db667faa-328b-4dd1-b1dc-d23c74073ce7",
   "metadata": {},
   "outputs": [
    {
     "name": "stdout",
     "output_type": "stream",
     "text": [
      "b'hyedhhyqjdiru'\n"
     ]
    }
   ],
   "source": [
    "str=\"hyedhhyqjdiru\"\n",
    "y=str.encode()\n",
    "print(y)"
   ]
  },
  {
   "cell_type": "code",
   "execution_count": 13,
   "id": "2a9544fe-1360-40c2-b5a5-5991505f03d9",
   "metadata": {},
   "outputs": [
    {
     "name": "stdout",
     "output_type": "stream",
     "text": [
      "h         e         l         l         o\n"
     ]
    }
   ],
   "source": [
    "str=\"h\\te\\tl\\tl\\to\"\n",
    "y=str.expandtabs(10)\n",
    "print(y)"
   ]
  },
  {
   "cell_type": "code",
   "execution_count": 14,
   "id": "530f17be-4780-4234-b34c-f0589d0c187c",
   "metadata": {},
   "outputs": [
    {
     "name": "stdout",
     "output_type": "stream",
     "text": [
      "3\n"
     ]
    }
   ],
   "source": [
    "str=\"hyedhhyqjdiru\"\n",
    "y=str.find(\"d\")\n",
    "print(y)"
   ]
  },
  {
   "cell_type": "code",
   "execution_count": 15,
   "id": "d8fe04e9-a8c2-4fba-be4f-63762d990aed",
   "metadata": {},
   "outputs": [
    {
     "name": "stdout",
     "output_type": "stream",
     "text": [
      "8\n"
     ]
    }
   ],
   "source": [
    "str=\"hyedhhyqjdiru\"\n",
    "y=str.index(\"j\")\n",
    "print(y)"
   ]
  },
  {
   "cell_type": "code",
   "execution_count": 16,
   "id": "6bdbf6b4-224b-4aaf-a099-5f0dc47d75bd",
   "metadata": {},
   "outputs": [
    {
     "name": "stdout",
     "output_type": "stream",
     "text": [
      "the price of parle-g biscuit is 10.000\n"
     ]
    }
   ],
   "source": [
    "str=\"the price of parle-g biscuit is {price:.3f}\"\n",
    "y=str.format(price=10)\n",
    "print(y)"
   ]
  },
  {
   "cell_type": "code",
   "execution_count": 17,
   "id": "3eb672b8-026f-4305-98e9-14303ed8e8e7",
   "metadata": {},
   "outputs": [
    {
     "name": "stdout",
     "output_type": "stream",
     "text": [
      "my name is jiyaan,my rollno. is 89\n"
     ]
    }
   ],
   "source": [
    "nm=\"my name is {name},my rollno. is {rno}\"\n",
    "y=nm.format(name=\"jiyaan\",rno=89)\n",
    "print(y)"
   ]
  },
  {
   "cell_type": "code",
   "execution_count": 18,
   "id": "0c7b1ec1-5206-45ab-8971-738bb7762640",
   "metadata": {},
   "outputs": [
    {
     "name": "stdout",
     "output_type": "stream",
     "text": [
      "My name is John, I'm 36\n",
      "My name is John, I'm 36\n",
      "My name is John, I'm 36\n"
     ]
    }
   ],
   "source": [
    "txt1 = \"My name is {fname}, I'm {age}\".format(fname = \"John\", age = 36)\n",
    "txt2 = \"My name is {0}, I'm {1}\".format(\"John\",36)\n",
    "txt3 = \"My name is {}, I'm {}\".format(\"John\",36)\n",
    "print(txt1)\n",
    "print(txt2)\n",
    "print(txt3)"
   ]
  },
  {
   "cell_type": "code",
   "execution_count": 19,
   "id": "104fe3bd-7b8a-4cd7-9dc9-58af779a55a0",
   "metadata": {},
   "outputs": [
    {
     "name": "stdout",
     "output_type": "stream",
     "text": [
      "the name of the student is jigar,and the roll no is 12\n"
     ]
    }
   ],
   "source": [
    "str={'x':\"jigar\",'y':'12'}\n",
    "print(\"the name of the student is {x},and the roll no is {y}\".format_map(str))"
   ]
  },
  {
   "cell_type": "code",
   "execution_count": 20,
   "id": "d6131d8e-d792-4449-9994-947ffaa61c77",
   "metadata": {},
   "outputs": [
    {
     "name": "stdout",
     "output_type": "stream",
     "text": [
      "John's last name is Wick\n"
     ]
    }
   ],
   "source": [
    "a= {'x':'John', 'y':'Wick'}  \n",
    "print(\"{x}'s last name is {y}\".format_map(a))"
   ]
  },
  {
   "cell_type": "code",
   "execution_count": 21,
   "id": "9d91f96b-8b25-4652-bf18-3329f7d5c7b0",
   "metadata": {},
   "outputs": [
    {
     "name": "stdout",
     "output_type": "stream",
     "text": [
      "True\n"
     ]
    }
   ],
   "source": [
    "str=\"vashisht8\"\n",
    "y=str.isalnum()\n",
    "print(y)"
   ]
  },
  {
   "cell_type": "code",
   "execution_count": 22,
   "id": "d49c875d-cb5c-41aa-8d2b-edfbc1e9a3da",
   "metadata": {},
   "outputs": [
    {
     "data": {
      "text/plain": [
       "True"
      ]
     },
     "execution_count": 22,
     "metadata": {},
     "output_type": "execute_result"
    }
   ],
   "source": [
    "str=\"vashisht8\"\n",
    "str.isalnum()\n",
    "#print(y)"
   ]
  },
  {
   "cell_type": "code",
   "execution_count": 23,
   "id": "21240ef9-404d-42f5-8d95-f480b1ddc073",
   "metadata": {},
   "outputs": [
    {
     "name": "stdout",
     "output_type": "stream",
     "text": [
      "False\n"
     ]
    }
   ],
   "source": [
    "str=\"vashisht8\"\n",
    "y=str.isalpha()\n",
    "print(y)"
   ]
  },
  {
   "cell_type": "code",
   "execution_count": 24,
   "id": "932cebdc-8f20-425b-ae2d-b6af4b9ad881",
   "metadata": {},
   "outputs": [
    {
     "name": "stdout",
     "output_type": "stream",
     "text": [
      "False\n"
     ]
    }
   ],
   "source": [
    "str=\"vashisht8\"\n",
    "y=str.isalpha()\n",
    "print(y)"
   ]
  },
  {
   "cell_type": "code",
   "execution_count": 25,
   "id": "61bfc6d1-7336-4e31-862a-897867598854",
   "metadata": {},
   "outputs": [
    {
     "name": "stdout",
     "output_type": "stream",
     "text": [
      "True\n"
     ]
    }
   ],
   "source": [
    "str=\"vashisht8\"\n",
    "y=str.isascii()\n",
    "print(y)"
   ]
  },
  {
   "cell_type": "code",
   "execution_count": 26,
   "id": "cfbe90f7-b0c8-4f08-96b0-27cca1b8d95c",
   "metadata": {},
   "outputs": [
    {
     "name": "stdout",
     "output_type": "stream",
     "text": [
      "True\n"
     ]
    }
   ],
   "source": [
    "str=\"1010101\"\n",
    "y=str.isdecimal()\n",
    "print(y)"
   ]
  },
  {
   "cell_type": "code",
   "execution_count": 27,
   "id": "b4676906-f1c7-43e3-9a0d-b182a155fd9f",
   "metadata": {},
   "outputs": [
    {
     "name": "stdout",
     "output_type": "stream",
     "text": [
      "False\n"
     ]
    }
   ],
   "source": [
    "str=\"vashisht8\"\n",
    "y=str.isdecimal()\n",
    "print(y)"
   ]
  },
  {
   "cell_type": "code",
   "execution_count": 28,
   "id": "e361f9f1-3cd3-4ad0-8db7-c98e34ded69f",
   "metadata": {},
   "outputs": [
    {
     "name": "stdout",
     "output_type": "stream",
     "text": [
      "True\n"
     ]
    }
   ],
   "source": [
    "str=\"1110810\"\n",
    "y=str.isdecimal()\n",
    "print(y)"
   ]
  },
  {
   "cell_type": "code",
   "execution_count": 29,
   "id": "678bb7bf-4010-4861-b176-9f2072cc2263",
   "metadata": {},
   "outputs": [
    {
     "name": "stdout",
     "output_type": "stream",
     "text": [
      "True\n"
     ]
    }
   ],
   "source": [
    "str=\"vashisht8\"\n",
    "y=str.isidentifier()\n",
    "print(y)"
   ]
  },
  {
   "cell_type": "code",
   "execution_count": 30,
   "id": "17a8ed5a-030c-4f56-8273-cc2191445793",
   "metadata": {},
   "outputs": [
    {
     "name": "stdout",
     "output_type": "stream",
     "text": [
      "True\n"
     ]
    }
   ],
   "source": [
    "str=\"vashisht8\"\n",
    "y=str.islower()\n",
    "print(y)"
   ]
  },
  {
   "cell_type": "code",
   "execution_count": 31,
   "id": "0b618292-ea28-4304-ad23-1a533496c82b",
   "metadata": {},
   "outputs": [
    {
     "name": "stdout",
     "output_type": "stream",
     "text": [
      "False\n"
     ]
    }
   ],
   "source": [
    "str=\"vashisht8\"\n",
    "y=str.isnumeric()\n",
    "print(y)"
   ]
  },
  {
   "cell_type": "code",
   "execution_count": 32,
   "id": "3ae90819-7205-4461-aacf-95930af00780",
   "metadata": {},
   "outputs": [
    {
     "name": "stdout",
     "output_type": "stream",
     "text": [
      "True\n"
     ]
    }
   ],
   "source": [
    "str=\"1110810\"\n",
    "y=str.isnumeric()\n",
    "print(y)"
   ]
  },
  {
   "cell_type": "code",
   "execution_count": 33,
   "id": "7695eec8-087f-4aa4-b1cf-bc293d0e0fdc",
   "metadata": {},
   "outputs": [
    {
     "name": "stdout",
     "output_type": "stream",
     "text": [
      "True\n"
     ]
    }
   ],
   "source": [
    "str=\"vashisht8\"\n",
    "y=str.isprintable()\n",
    "print(y)"
   ]
  },
  {
   "cell_type": "code",
   "execution_count": 34,
   "id": "6fb798b5-bc17-43f2-a124-9592f386db58",
   "metadata": {},
   "outputs": [
    {
     "name": "stdout",
     "output_type": "stream",
     "text": [
      "False\n"
     ]
    }
   ],
   "source": [
    "str=\"vashisht8/15\"\n",
    "y=str.isspace()\n",
    "print(y)"
   ]
  },
  {
   "cell_type": "code",
   "execution_count": 35,
   "id": "34d1d8a1-018f-44b9-9a26-f21ae862a3e0",
   "metadata": {},
   "outputs": [
    {
     "name": "stdout",
     "output_type": "stream",
     "text": [
      "False\n"
     ]
    }
   ],
   "source": [
    "str=\"vashisht8\"\n",
    "y=str.isspace()\n",
    "print(y)"
   ]
  },
  {
   "cell_type": "code",
   "execution_count": 36,
   "id": "e4b9b9ae-43a6-4308-96a9-6c5e2a0b3276",
   "metadata": {},
   "outputs": [
    {
     "name": "stdout",
     "output_type": "stream",
     "text": [
      "False\n"
     ]
    }
   ],
   "source": [
    "str=\"the future of AI is in ourhands...\"\n",
    "y=str.isspace()\n",
    "print(y)"
   ]
  },
  {
   "cell_type": "code",
   "execution_count": 37,
   "id": "d8b63384-9d89-40dd-8478-4fb9841c2921",
   "metadata": {},
   "outputs": [
    {
     "name": "stdout",
     "output_type": "stream",
     "text": [
      "False\n",
      "True\n",
      "False\n"
     ]
    }
   ],
   "source": [
    "string = 'the future of AI is in ourhands...'\n",
    "print(string.isspace())\n",
    "string = '\\n \\n \\n'\n",
    "print(string.isspace())\n",
    "string = 'tanmay\\nfor\\nrutuja'\n",
    "print( string.isspace())"
   ]
  },
  {
   "cell_type": "code",
   "execution_count": 38,
   "id": "1b981059-749c-46f2-a1f4-76d475a0d7c6",
   "metadata": {},
   "outputs": [
    {
     "name": "stdout",
     "output_type": "stream",
     "text": [
      "True\n"
     ]
    }
   ],
   "source": [
    "s=\"\\t \\t \\t \\t\"\n",
    "y=s.isspace()\n",
    "print(y)"
   ]
  },
  {
   "cell_type": "code",
   "execution_count": 39,
   "id": "e2fbf873-634b-4d24-aa53-56731a057ff1",
   "metadata": {},
   "outputs": [
    {
     "name": "stdout",
     "output_type": "stream",
     "text": [
      "False\n"
     ]
    }
   ],
   "source": [
    "str=\"the future of AI is in ourhands...\"\n",
    "y=str.istitle()\n",
    "print(y)"
   ]
  },
  {
   "cell_type": "code",
   "execution_count": 40,
   "id": "9ce0c25e-e669-407c-88d1-34546f11af67",
   "metadata": {},
   "outputs": [
    {
     "name": "stdout",
     "output_type": "stream",
     "text": [
      "please^work^hard^for^your^parents\n"
     ]
    }
   ],
   "source": [
    "str=(\"please\",\"work\",\"hard\",\"for\",\"your\",\"parents\")\n",
    "y=\"^\".join(str)\n",
    "print(y)"
   ]
  },
  {
   "cell_type": "code",
   "execution_count": 41,
   "id": "1a19d527-9e16-4a1c-b24c-a07fb9283c18",
   "metadata": {},
   "outputs": [
    {
     "name": "stdout",
     "output_type": "stream",
     "text": [
      "The future of ai is in ourhands...\n"
     ]
    }
   ],
   "source": [
    "str=\"the future of AI is in ourhands...\"\n",
    "y=str.capitalize()\n",
    "print(y)"
   ]
  },
  {
   "cell_type": "code",
   "execution_count": 42,
   "id": "a3b0bfef-1662-4bec-85a9-5ea8dfdb63a4",
   "metadata": {},
   "outputs": [
    {
     "name": "stdout",
     "output_type": "stream",
     "text": [
      "The Future Of Ai Is In Ourhands...\n"
     ]
    }
   ],
   "source": [
    "str=\"the future of AI is in ourhands...\"\n",
    "y=str.title()\n",
    "print(y)"
   ]
  },
  {
   "cell_type": "code",
   "execution_count": 43,
   "id": "c8521314-d729-48c4-85aa-14dc322813a8",
   "metadata": {},
   "outputs": [
    {
     "name": "stdout",
     "output_type": "stream",
     "text": [
      "THE FUTURE OF AI IS IN OURHANDS...\n"
     ]
    }
   ],
   "source": [
    "str=\"the future of AI is in ourhands...\"\n",
    "y=str.upper()\n",
    "print(y)"
   ]
  },
  {
   "cell_type": "code",
   "execution_count": 44,
   "id": "a4b83b71-1e58-43e0-b9d1-53f3e545b783",
   "metadata": {},
   "outputs": [
    {
     "name": "stdout",
     "output_type": "stream",
     "text": [
      "False\n"
     ]
    }
   ],
   "source": [
    "str=\"the future of AI is in ourhands...\"\n",
    "y=str.isupper()\n",
    "print(y)"
   ]
  },
  {
   "cell_type": "code",
   "execution_count": 45,
   "id": "f215d359-21e9-402d-aa77-f5aa9fd181d6",
   "metadata": {},
   "outputs": [
    {
     "name": "stdout",
     "output_type": "stream",
     "text": [
      "False\n"
     ]
    }
   ],
   "source": [
    "str=\"the future of AI is in ourhands...\"\n",
    "y=str.isupper()\n",
    "print(y)"
   ]
  },
  {
   "cell_type": "code",
   "execution_count": 46,
   "id": "9db7fc56-6a78-49c5-b181-fafe947c040b",
   "metadata": {},
   "outputs": [
    {
     "name": "stdout",
     "output_type": "stream",
     "text": [
      "the future of AI is in ourhands...\n"
     ]
    }
   ],
   "source": [
    "str = \"the future of AI is in ourhands...\"\n",
    "words = str.split()  # Splitting the string into a list of words\n",
    "y = ' '.join(words)  # Joining the words back into a string with a space as the separator\n",
    "print(y)"
   ]
  },
  {
   "cell_type": "code",
   "execution_count": 47,
   "id": "5b7bba18-6d6f-46c6-a76d-051478f505cd",
   "metadata": {},
   "outputs": [
    {
     "name": "stdout",
     "output_type": "stream",
     "text": [
      "['the', 'future', 'of', 'AI', 'is', 'in', 'ourhands...']\n"
     ]
    }
   ],
   "source": [
    "str=\"the future of AI is in ourhands...\"\n",
    "y=str.rsplit()\n",
    "print(y)"
   ]
  },
  {
   "cell_type": "code",
   "execution_count": 48,
   "id": "64eaf6b9-99e3-4cd6-b42a-dbf64fbed57a",
   "metadata": {},
   "outputs": [
    {
     "name": "stdout",
     "output_type": "stream",
     "text": [
      "('the future of ', 'AI', ' is in ourhands...')\n"
     ]
    }
   ],
   "source": [
    "str=\"the future of AI is in ourhands...\"\n",
    "y=str.rpartition('AI')\n",
    "print(y)"
   ]
  },
  {
   "cell_type": "code",
   "execution_count": 49,
   "id": "9e7bfe60-b995-44f9-b32b-00e6eb984c9c",
   "metadata": {},
   "outputs": [
    {
     "name": "stdout",
     "output_type": "stream",
     "text": [
      "                the future of AI is in ourhands...\n"
     ]
    }
   ],
   "source": [
    "str=\"the future of AI is in ourhands...\"\n",
    "y=str.rjust(50)\n",
    "print(y)"
   ]
  },
  {
   "cell_type": "code",
   "execution_count": 50,
   "id": "8a358bf1-bdd6-4f5b-b8db-0f9ae208040f",
   "metadata": {},
   "outputs": [
    {
     "name": "stdout",
     "output_type": "stream",
     "text": [
      "14\n"
     ]
    }
   ],
   "source": [
    "str = \"the future of AI is in our hands...\"\n",
    "y = str.rindex(\"AI\")  # Finding the last occurrence of \"AI\"\n",
    "print(y)"
   ]
  },
  {
   "cell_type": "code",
   "execution_count": 51,
   "id": "30c8476b-8e97-49f9-ba3a-cc255da183a7",
   "metadata": {},
   "outputs": [
    {
     "name": "stdout",
     "output_type": "stream",
     "text": [
      "4\n"
     ]
    }
   ],
   "source": [
    "str=\"the future of AI is in ourhands...\"\n",
    "y=str.rfind(\"future\")\n",
    "print(y)"
   ]
  },
  {
   "cell_type": "code",
   "execution_count": 52,
   "id": "40de21ee-bfea-431e-8cd5-7b9ac1b35c90",
   "metadata": {},
   "outputs": [
    {
     "name": "stdout",
     "output_type": "stream",
     "text": [
      "the future of AI is in yourhands...\n"
     ]
    }
   ],
   "source": [
    "str=\"the future of AI is in ourhands...\"\n",
    "y=str.replace(\"ourhands\",\"yourhands\")\n",
    "print(y)"
   ]
  },
  {
   "cell_type": "code",
   "execution_count": 53,
   "id": "bc5c0a57-09fb-486e-aa7e-db5cdb4b77a9",
   "metadata": {},
   "outputs": [
    {
     "name": "stdout",
     "output_type": "stream",
     "text": [
      "('the ', 'future', ' of AI is in ourhands....')\n"
     ]
    }
   ],
   "source": [
    "str=\"the future of AI is in ourhands....\"\n",
    "y=str.partition(\"future\")\n",
    "print(y)"
   ]
  },
  {
   "cell_type": "code",
   "execution_count": 54,
   "id": "7c5f4e77-95f7-4ab0-bf1e-ca00f4f02f72",
   "metadata": {},
   "outputs": [
    {
     "name": "stdout",
     "output_type": "stream",
     "text": [
      "('the future of ', 'AI', ' is in ourhands....')\n"
     ]
    }
   ],
   "source": [
    "str=\"the future of AI is in ourhands....\"\n",
    "y=str.rpartition(\"AI\")\n",
    "print(y)"
   ]
  },
  {
   "cell_type": "code",
   "execution_count": 55,
   "id": "6c19a796-e5b9-40b7-be10-63e4f7bbc17d",
   "metadata": {},
   "outputs": [
    {
     "name": "stdout",
     "output_type": "stream",
     "text": [
      "the future of AI is in ourhands....\n"
     ]
    }
   ],
   "source": [
    "str = \"the future of AI is in ourhands....\"\n",
    "y = str.strip()\n",
    "print(y)"
   ]
  },
  {
   "cell_type": "code",
   "execution_count": 56,
   "id": "a87555b8-2d51-44d3-b625-27dedb3aa20b",
   "metadata": {},
   "outputs": [
    {
     "name": "stdout",
     "output_type": "stream",
     "text": [
      "the future of AI is in ourhands\n"
     ]
    }
   ],
   "source": [
    "str = \"the future of AI is in ourhands....\"\n",
    "y = str.rstrip('.')\n",
    "print(y)"
   ]
  },
  {
   "cell_type": "code",
   "execution_count": 57,
   "id": "e9d09eb4-ba49-4801-9a1f-2c046405b54b",
   "metadata": {},
   "outputs": [
    {
     "name": "stdout",
     "output_type": "stream",
     "text": [
      "('the future of AI is in ourhands...', '', '')\n"
     ]
    }
   ],
   "source": [
    "str=\"the future of AI is in ourhands...\"\n",
    "y=str.partition(\"love\")\n",
    "print(y)"
   ]
  },
  {
   "cell_type": "code",
   "execution_count": 58,
   "id": "19dab3a3-afa3-4d7a-9d11-e242ad4fc422",
   "metadata": {},
   "outputs": [
    {
     "name": "stdout",
     "output_type": "stream",
     "text": [
      "['the', 'future', 'of', 'AI', 'is', 'in', 'ourhands...']\n"
     ]
    }
   ],
   "source": [
    "str=\"the future of AI is in ourhands...\"\n",
    "y=str.split()\n",
    "print(y)"
   ]
  },
  {
   "cell_type": "code",
   "execution_count": 59,
   "id": "e226c416-7b8d-4722-a491-389e0c1d9a6d",
   "metadata": {},
   "outputs": [
    {
     "name": "stdout",
     "output_type": "stream",
     "text": [
      "['the future of AI is in ourhands...']\n"
     ]
    }
   ],
   "source": [
    "str=\"the future of AI is in ourhands...\"\n",
    "y=str.splitlines()\n",
    "print(y)"
   ]
  },
  {
   "cell_type": "code",
   "execution_count": 60,
   "id": "babc0313-ed7d-4065-94e4-942ec9726407",
   "metadata": {},
   "outputs": [
    {
     "name": "stdout",
     "output_type": "stream",
     "text": [
      "False\n"
     ]
    }
   ],
   "source": [
    "str=\"the future of AI is in ourhands...\"\n",
    "y=str.startswith(\"h\")\n",
    "print(y)"
   ]
  },
  {
   "cell_type": "code",
   "execution_count": 61,
   "id": "d961e71b-5dc8-4a2b-b678-4c2bd83b9c87",
   "metadata": {},
   "outputs": [
    {
     "name": "stdout",
     "output_type": "stream",
     "text": [
      "the future of AI is in ourhands...\n"
     ]
    }
   ],
   "source": [
    "str=\"the future of AI is in ourhands...\"\n",
    "y=str.rstrip()\n",
    "print(y)"
   ]
  },
  {
   "cell_type": "code",
   "execution_count": 62,
   "id": "de3d04f9-e0f6-4f44-a27f-6229386ab697",
   "metadata": {},
   "outputs": [
    {
     "name": "stdout",
     "output_type": "stream",
     "text": [
      "the future of AI is in ourhands...\n"
     ]
    }
   ],
   "source": [
    "str=\"the future of AI is in ourhands...\"\n",
    "y=str.strip()\n",
    "print(y)"
   ]
  },
  {
   "cell_type": "code",
   "execution_count": 63,
   "id": "cd717fa7-5811-4c76-96e8-b8dfa7413f25",
   "metadata": {},
   "outputs": [
    {
     "name": "stdout",
     "output_type": "stream",
     "text": [
      "THE FUTURE OF ai IS IN OURHANDS....\n"
     ]
    }
   ],
   "source": [
    "str=\"the future of AI is in ourhands....\"\n",
    "y=str.swapcase()\n",
    "print(y)"
   ]
  },
  {
   "cell_type": "code",
   "execution_count": 64,
   "id": "5ac0450f-aeb2-4e32-b7d1-26918eaa6821",
   "metadata": {},
   "outputs": [
    {
     "name": "stdout",
     "output_type": "stream",
     "text": [
      "the future of AI is in ourhands...\n"
     ]
    }
   ],
   "source": [
    "str=\"the future of AI is in ourhands...\"\n",
    "y=str.translate(\"i\")\n",
    "print(y)"
   ]
  },
  {
   "cell_type": "code",
   "execution_count": 65,
   "id": "7ddae7f8-6d55-4c4f-ac01-cec38c697bdc",
   "metadata": {},
   "outputs": [
    {
     "name": "stdout",
     "output_type": "stream",
     "text": [
      "the future of AI is in ourhands...\n"
     ]
    }
   ],
   "source": [
    "str=\"the future of AI is in ourhands...\"\n",
    "y=str.zfill(15)\n",
    "print(y)"
   ]
  },
  {
   "cell_type": "code",
   "execution_count": 66,
   "id": "b0c19eee-8c59-4f5c-a03e-e930cd339d2f",
   "metadata": {},
   "outputs": [
    {
     "name": "stdout",
     "output_type": "stream",
     "text": [
      "banana               is my favorite fruit.\n"
     ]
    }
   ],
   "source": [
    "txt = \"banana\"\n",
    "x = txt.ljust(20)\n",
    "print(x, \"is my favorite fruit.\")"
   ]
  },
  {
   "cell_type": "code",
   "execution_count": 67,
   "id": "49906777-caef-40fd-b854-ac01ec279a27",
   "metadata": {},
   "outputs": [
    {
     "name": "stdout",
     "output_type": "stream",
     "text": [
      "i-phone                 is my favourite phone\n"
     ]
    }
   ],
   "source": [
    "str=\"i-phone\"\n",
    "y=str.ljust(23)\n",
    "print(y,\"is my favourite phone\")"
   ]
  },
  {
   "cell_type": "code",
   "execution_count": 68,
   "id": "8662289f-ffbd-4ad9-9479-c0a411aaf433",
   "metadata": {},
   "outputs": [
    {
     "name": "stdout",
     "output_type": "stream",
     "text": [
      "hi i am john\n"
     ]
    }
   ],
   "source": [
    "str=\"hi i am john\"\n",
    "y=str.lstrip()\n",
    "print(y)"
   ]
  },
  {
   "cell_type": "code",
   "execution_count": 69,
   "id": "280fc0e6-a2e8-4041-94f8-03a235f70d72",
   "metadata": {},
   "outputs": [
    {
     "name": "stdout",
     "output_type": "stream",
     "text": [
      "{114: 106}\n"
     ]
    }
   ],
   "source": [
    "str=\"hi i am gopal\"\n",
    "y=str.maketrans(\"r\",\"j\")\n",
    "print(y)"
   ]
  },
  {
   "cell_type": "code",
   "execution_count": 70,
   "id": "552cf258-f088-4719-b0e9-c8114a0e755e",
   "metadata": {},
   "outputs": [
    {
     "name": "stdout",
     "output_type": "stream",
     "text": [
      "hi i am gopal\n"
     ]
    }
   ],
   "source": [
    "str=\"hi i am gopal\"\n",
    "y=str.maketrans(\"r\",\"j\")\n",
    "print(str.translate(y))"
   ]
  },
  {
   "cell_type": "code",
   "execution_count": 71,
   "id": "9360aee8-2839-4568-8f8e-f2e4fe28d99b",
   "metadata": {},
   "outputs": [
    {
     "name": "stdout",
     "output_type": "stream",
     "text": [
      "Hello Pam!\n"
     ]
    }
   ],
   "source": [
    "txt = \"Hello Sam!\"\n",
    "mytable = str.maketrans(\"S\", \"P\")\n",
    "print(txt.translate(mytable))"
   ]
  },
  {
   "cell_type": "code",
   "execution_count": 72,
   "id": "3e0dbf74-367f-481d-ab97-232013a2a179",
   "metadata": {},
   "outputs": [
    {
     "name": "stdout",
     "output_type": "stream",
     "text": [
      "hi i am cintu\n"
     ]
    }
   ],
   "source": [
    "str=\"hi i am pintu\"\n",
    "y=str.maketrans(\"p\",\"c\")\n",
    "print(str.translate(y))"
   ]
  },
  {
   "cell_type": "code",
   "execution_count": 73,
   "id": "6c3ffb03-4b45-4322-acb6-2afc487d7f9a",
   "metadata": {},
   "outputs": [
    {
     "name": "stdout",
     "output_type": "stream",
     "text": [
      "hi i am kaju\n"
     ]
    }
   ],
   "source": [
    "str=\"hi i am raju\"\n",
    "y=str.maketrans(\"r\",\"k\")\n",
    "print(str.translate(y))"
   ]
  },
  {
   "cell_type": "code",
   "execution_count": 74,
   "id": "f44a0693-ee8b-42ad-b30d-c498a287d184",
   "metadata": {},
   "outputs": [
    {
     "name": "stdout",
     "output_type": "stream",
     "text": [
      "8\n"
     ]
    }
   ],
   "source": [
    "str=\"hi i am gopal\"\n",
    "y=str.rindex(\"gopal\")\n",
    "print(y)"
   ]
  },
  {
   "cell_type": "code",
   "execution_count": 75,
   "id": "620dea95-bba1-459c-bbec-0cc76f2d1aa3",
   "metadata": {},
   "outputs": [
    {
     "name": "stdout",
     "output_type": "stream",
     "text": [
      "('hello my name is ', 'gopal', ' and i am a m.sc.ai-ml student')\n"
     ]
    }
   ],
   "source": [
    "str=\"hello my name is gopal and i am a m.sc.ai-ml student\"\n",
    "y=str.rpartition(\"gopal\")\n",
    "print(y)"
   ]
  },
  {
   "cell_type": "code",
   "execution_count": 76,
   "id": "b055c0d4-0af8-4343-ac3d-371580cfbd3b",
   "metadata": {},
   "outputs": [
    {
     "name": "stdout",
     "output_type": "stream",
     "text": [
      "00000050\n"
     ]
    }
   ],
   "source": [
    "txt = \"50\"\n",
    "x = txt.zfill(8)\n",
    "print(x)"
   ]
  },
  {
   "cell_type": "code",
   "execution_count": 77,
   "id": "937fe312-ee4f-4341-80b3-10148753cd66",
   "metadata": {},
   "outputs": [
    {
     "name": "stdout",
     "output_type": "stream",
     "text": [
      "hol\n"
     ]
    }
   ],
   "source": [
    "str=\"hellogopal\"\n",
    "y=str[0]+str[4]+str[-1]\n",
    "print(y)"
   ]
  }
 ],
 "metadata": {
  "kernelspec": {
   "display_name": "Python 3 (ipykernel)",
   "language": "python",
   "name": "python3"
  },
  "language_info": {
   "codemirror_mode": {
    "name": "ipython",
    "version": 3
   },
   "file_extension": ".py",
   "mimetype": "text/x-python",
   "name": "python",
   "nbconvert_exporter": "python",
   "pygments_lexer": "ipython3",
   "version": "3.12.0"
  }
 },
 "nbformat": 4,
 "nbformat_minor": 5
}
